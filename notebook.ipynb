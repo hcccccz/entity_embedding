{
 "cells": [
  {
   "cell_type": "code",
   "execution_count": 2,
   "metadata": {},
   "outputs": [],
   "source": [
    "import numpy as np\n",
    "import pandas as pd\n",
    "import matplotlib.pyplot as plt\n"
   ]
  },
  {
   "cell_type": "code",
   "execution_count": 32,
   "metadata": {},
   "outputs": [],
   "source": [
    "import tensorflow as tf\n",
    "from tensorflow.keras.models import Model\n",
    "from tensorflow.keras.layers import Input, Dense, Embedding, Flatten, Concatenate, Normalization\n",
    "from sklearn.preprocessing import LabelEncoder, OrdinalEncoder\n",
    "from sklearn.base import BaseEstimator, TransformerMixin\n",
    "import copy\n",
    "\n"
   ]
  },
  {
   "cell_type": "code",
   "execution_count": null,
   "metadata": {},
   "outputs": [],
   "source": [
    "class EmbeddingGenerator(BaseEstimator, TransformerMixin):\n",
    "    def __init__(self, epochs=5, batch_size=128, embedding_size=None):\n",
    "        self.model = None\n",
    "        self.catagorical_columns = []\n",
    "        self.numberical_columns = []\n",
    "        self.epochs = epochs\n",
    "        self.batch_size = batch_size\n",
    "        self.embedding_size = embedding_size\n",
    "        self.oe = OrdinalEncoder(categories=\"auto\", handle_unknown=\"use_encoded_value\", unknown_value=9999, encoded_missing_value=9999, dtype=np.int32)\n",
    "\n",
    "    def fit(self, X_train, y_train):\n",
    "        self.X_train = X_train\n",
    "\n",
    "    def _get_encoded_categorical_data(self, X, case='train'):\n",
    "        self.cateegorical_columns = X.select_dtype(include=['object', 'category']).columns.tolist()\n",
    "        self.n_categories = [X[c].unique() for c in self.cateegorical_columns] #how many level in each categorical column\n",
    "        if case == 'train':\n",
    "            encoded_cat_data =\n",
    "\n",
    "\n",
    "\n"
   ]
  },
  {
   "cell_type": "code",
   "execution_count": 10,
   "metadata": {},
   "outputs": [],
   "source": [
    "train_df = pd.read_csv(\"train.csv\", low_memory=False)\n",
    "test_df = pd.read_csv(\"test.csv\", low_memory=False)\n",
    "store_df = pd.read_csv(\"store.csv\", low_memory=False)\n",
    "\n",
    "train_data = pd.merge(train_df, store_df, how='inner', on='Store')\n",
    "test_data = pd.merge(test_df, store_df, how='inner', on='Store')"
   ]
  },
  {
   "cell_type": "code",
   "execution_count": 15,
   "metadata": {},
   "outputs": [
    {
     "name": "stdout",
     "output_type": "stream",
     "text": [
      "<class 'pandas.core.frame.DataFrame'>\n",
      "RangeIndex: 1017209 entries, 0 to 1017208\n",
      "Data columns (total 6 columns):\n",
      " #   Column         Non-Null Count    Dtype \n",
      "---  ------         --------------    ----- \n",
      " 0   Store          1017209 non-null  int64 \n",
      " 1   Open           1017209 non-null  int64 \n",
      " 2   StoreType      1017209 non-null  object\n",
      " 3   DayOfWeek      1017209 non-null  int64 \n",
      " 4   Assortment     1017209 non-null  object\n",
      " 5   SchoolHoliday  1017209 non-null  int64 \n",
      "dtypes: int64(4), object(2)\n",
      "memory usage: 46.6+ MB\n",
      "None\n"
     ]
    }
   ],
   "source": [
    "X_train, y_train =train_data.drop(['Sales'],axis=1), train_data['Sales']\n",
    "col_to_use = ['Store', 'Open', 'StoreType', 'DayOfWeek', 'Assortment', 'SchoolHoliday']\n",
    "print(X_train[col_to_use].info())"
   ]
  },
  {
   "cell_type": "code",
   "execution_count": 28,
   "metadata": {},
   "outputs": [
    {
     "data": {
      "text/plain": [
       "[942, 4, 4, 3, 3]"
      ]
     },
     "execution_count": 28,
     "metadata": {},
     "output_type": "execute_result"
    }
   ],
   "source": [
    "\n",
    "cl = X_train.select_dtypes(include=['object','category']).columns.tolist()\n",
    "[X_train[c].nunique() for c in cl]"
   ]
  },
  {
   "cell_type": "code",
   "execution_count": 39,
   "metadata": {},
   "outputs": [
    {
     "data": {
      "text/plain": [
       "array([[ 941,    0,    2,    0, 9999],\n",
       "       [ 941,    0,    0,    0,    1],\n",
       "       [ 941,    0,    0,    0,    1],\n",
       "       ...,\n",
       "       [   0,    1,    0,    2, 9999],\n",
       "       [   0,    1,    0,    2, 9999],\n",
       "       [   0,    1,    3,    2,    2]], dtype=int32)"
      ]
     },
     "execution_count": 39,
     "metadata": {},
     "output_type": "execute_result"
    }
   ],
   "source": [
    "oe = OrdinalEncoder(handle_unknown=\"use_encoded_value\",unknown_value=9999,encoded_missing_value=9999,dtype=np.int32)\n",
    "oe.fit_transform(X_train[cl])"
   ]
  },
  {
   "cell_type": "code",
   "execution_count": 37,
   "metadata": {},
   "outputs": [
    {
     "data": {
      "text/html": [
       "<div>\n",
       "<style scoped>\n",
       "    .dataframe tbody tr th:only-of-type {\n",
       "        vertical-align: middle;\n",
       "    }\n",
       "\n",
       "    .dataframe tbody tr th {\n",
       "        vertical-align: top;\n",
       "    }\n",
       "\n",
       "    .dataframe thead th {\n",
       "        text-align: right;\n",
       "    }\n",
       "</style>\n",
       "<table border=\"1\" class=\"dataframe\">\n",
       "  <thead>\n",
       "    <tr style=\"text-align: right;\">\n",
       "      <th></th>\n",
       "      <th>Date</th>\n",
       "      <th>StateHoliday</th>\n",
       "      <th>StoreType</th>\n",
       "      <th>Assortment</th>\n",
       "      <th>PromoInterval</th>\n",
       "    </tr>\n",
       "  </thead>\n",
       "  <tbody>\n",
       "    <tr>\n",
       "      <th>0</th>\n",
       "      <td>2015-07-31</td>\n",
       "      <td>0</td>\n",
       "      <td>c</td>\n",
       "      <td>a</td>\n",
       "      <td>NaN</td>\n",
       "    </tr>\n",
       "    <tr>\n",
       "      <th>1</th>\n",
       "      <td>2015-07-31</td>\n",
       "      <td>0</td>\n",
       "      <td>a</td>\n",
       "      <td>a</td>\n",
       "      <td>Jan,Apr,Jul,Oct</td>\n",
       "    </tr>\n",
       "    <tr>\n",
       "      <th>2</th>\n",
       "      <td>2015-07-31</td>\n",
       "      <td>0</td>\n",
       "      <td>a</td>\n",
       "      <td>a</td>\n",
       "      <td>Jan,Apr,Jul,Oct</td>\n",
       "    </tr>\n",
       "    <tr>\n",
       "      <th>3</th>\n",
       "      <td>2015-07-31</td>\n",
       "      <td>0</td>\n",
       "      <td>c</td>\n",
       "      <td>c</td>\n",
       "      <td>NaN</td>\n",
       "    </tr>\n",
       "    <tr>\n",
       "      <th>4</th>\n",
       "      <td>2015-07-31</td>\n",
       "      <td>0</td>\n",
       "      <td>a</td>\n",
       "      <td>a</td>\n",
       "      <td>NaN</td>\n",
       "    </tr>\n",
       "    <tr>\n",
       "      <th>...</th>\n",
       "      <td>...</td>\n",
       "      <td>...</td>\n",
       "      <td>...</td>\n",
       "      <td>...</td>\n",
       "      <td>...</td>\n",
       "    </tr>\n",
       "    <tr>\n",
       "      <th>1017204</th>\n",
       "      <td>2013-01-01</td>\n",
       "      <td>a</td>\n",
       "      <td>a</td>\n",
       "      <td>a</td>\n",
       "      <td>Jan,Apr,Jul,Oct</td>\n",
       "    </tr>\n",
       "    <tr>\n",
       "      <th>1017205</th>\n",
       "      <td>2013-01-01</td>\n",
       "      <td>a</td>\n",
       "      <td>c</td>\n",
       "      <td>c</td>\n",
       "      <td>NaN</td>\n",
       "    </tr>\n",
       "    <tr>\n",
       "      <th>1017206</th>\n",
       "      <td>2013-01-01</td>\n",
       "      <td>a</td>\n",
       "      <td>a</td>\n",
       "      <td>c</td>\n",
       "      <td>NaN</td>\n",
       "    </tr>\n",
       "    <tr>\n",
       "      <th>1017207</th>\n",
       "      <td>2013-01-01</td>\n",
       "      <td>a</td>\n",
       "      <td>a</td>\n",
       "      <td>c</td>\n",
       "      <td>NaN</td>\n",
       "    </tr>\n",
       "    <tr>\n",
       "      <th>1017208</th>\n",
       "      <td>2013-01-01</td>\n",
       "      <td>a</td>\n",
       "      <td>d</td>\n",
       "      <td>c</td>\n",
       "      <td>Mar,Jun,Sept,Dec</td>\n",
       "    </tr>\n",
       "  </tbody>\n",
       "</table>\n",
       "<p>1017209 rows × 5 columns</p>\n",
       "</div>"
      ],
      "text/plain": [
       "               Date StateHoliday StoreType Assortment     PromoInterval\n",
       "0        2015-07-31            0         c          a               NaN\n",
       "1        2015-07-31            0         a          a   Jan,Apr,Jul,Oct\n",
       "2        2015-07-31            0         a          a   Jan,Apr,Jul,Oct\n",
       "3        2015-07-31            0         c          c               NaN\n",
       "4        2015-07-31            0         a          a               NaN\n",
       "...             ...          ...       ...        ...               ...\n",
       "1017204  2013-01-01            a         a          a   Jan,Apr,Jul,Oct\n",
       "1017205  2013-01-01            a         c          c               NaN\n",
       "1017206  2013-01-01            a         a          c               NaN\n",
       "1017207  2013-01-01            a         a          c               NaN\n",
       "1017208  2013-01-01            a         d          c  Mar,Jun,Sept,Dec\n",
       "\n",
       "[1017209 rows x 5 columns]"
      ]
     },
     "execution_count": 37,
     "metadata": {},
     "output_type": "execute_result"
    }
   ],
   "source": []
  }
 ],
 "metadata": {
  "kernelspec": {
   "display_name": "tensor",
   "language": "python",
   "name": "python3"
  },
  "language_info": {
   "codemirror_mode": {
    "name": "ipython",
    "version": 3
   },
   "file_extension": ".py",
   "mimetype": "text/x-python",
   "name": "python",
   "nbconvert_exporter": "python",
   "pygments_lexer": "ipython3",
   "version": "3.9.18"
  }
 },
 "nbformat": 4,
 "nbformat_minor": 2
}
