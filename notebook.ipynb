{
 "cells": [
  {
   "cell_type": "code",
   "execution_count": 4,
   "metadata": {},
   "outputs": [],
   "source": [
    "import numpy as np\n",
    "import pandas as pd\n",
    "import matplotlib.pyplot as plt\n"
   ]
  },
  {
   "cell_type": "code",
   "execution_count": 21,
   "metadata": {},
   "outputs": [],
   "source": [
    "import tensorflow as tf\n",
    "from tensorflow.keras.models import Model\n",
    "# from tensorflow.keras.layers import Input, Dense, Embedding, Flatten, Concatenate, Normalization\n",
    "from tensorflow.keras import Input\n",
    "from sklearn.preprocessing import LabelEncoder, OrdinalEncoder\n",
    "from sklearn.base import BaseEstimator, TransformerMixin\n",
    "import copy\n",
    "\n"
   ]
  },
  {
   "cell_type": "code",
   "execution_count": 6,
   "metadata": {},
   "outputs": [],
   "source": [
    "class EmbeddingGenerator(BaseEstimator, TransformerMixin):\n",
    "    def __init__(self, epochs=5, batch_size=128, embedding_size=None):\n",
    "        self.model = None\n",
    "        self.catagorical_columns = []\n",
    "        self.numberical_columns = []\n",
    "        self.epochs = epochs\n",
    "        self.batch_size = batch_size\n",
    "        self.embedding_size = embedding_size\n",
    "        self.oe = OrdinalEncoder(categories=\"auto\", handle_unknown=\"use_encoded_value\", unknown_value=9999, encoded_missing_value=9999, dtype=np.int32)\n",
    "        #encode category by number\n",
    "    def fit(self, X_train, y_train):\n",
    "        self.X_train = X_train\n",
    "        self._get_encoded_categorical_data(X_train)\n",
    "        self._get_numerical_data(X_train)\n",
    "\n",
    "\n",
    "    def _get_encoded_categorical_data(self, X, case='train'):\n",
    "        self.cateegorical_columns = X.select_dtype(include=['object', 'category']).columns.tolist() #select column that is type of include\n",
    "        self.n_categories = [X[c].unique() for c in self.cateegorical_columns] #how many level in each categorical column\n",
    "        if case == 'train':\n",
    "            encoded_cat_data = self.oe.fit_transform(X[self.catagorical_columns]) #2d array\n",
    "        if case=='predict':\n",
    "            encoded_cat_data = self.oe.transform(X[self.catagorical_columns]) #2d array\n",
    "        return [encoded_cat_data[:,i] for i in range(encoded_cat_data.shape[1])] #encoded_cat_data.shape[1] is number of columns\n",
    "    #return a list of 1d array\n",
    "    \"\"\"[array([941, 941, 941, ...,   0,   0,   0], dtype=int32),\n",
    "   array([0, 0, 0, ..., 1, 1, 1], dtype=int32),\n",
    "   array([2, 0, 0, ..., 0, 0, 3], dtype=int32),\n",
    "   array([0, 0, 0, ..., 2, 2, 2], dtype=int32),\n",
    "   array([9999,    1,    1, ..., 9999, 9999,    2], dtype=int32)]\"\"\"\n",
    "\n",
    "\n",
    "    def _get_numerical_data(self, X):\n",
    "        self.numberical_columns = X.select_dtypes(include=[np.number]).columns.tolist() # column name of numeric column\n",
    "        num_data =X[self.numberical_columns].values\n",
    "        return [num_data]\n",
    "\n",
    "    def _create_model(self):\n",
    "        categorical_input = []\n",
    "        embedding_layers = []\n",
    "        for idx, col in enumerate(self.catagorical_columns):\n",
    "            Input(shape)\n",
    "\n",
    "\n"
   ]
  },
  {
   "cell_type": "code",
   "execution_count": 7,
   "metadata": {},
   "outputs": [],
   "source": [
    "train_df = pd.read_csv(\"train.csv\", low_memory=False)\n",
    "test_df = pd.read_csv(\"test.csv\", low_memory=False)\n",
    "store_df = pd.read_csv(\"store.csv\", low_memory=False)\n",
    "\n",
    "train_data = pd.merge(train_df, store_df, how='inner', on='Store')\n",
    "test_data = pd.merge(test_df, store_df, how='inner', on='Store')"
   ]
  },
  {
   "cell_type": "code",
   "execution_count": 8,
   "metadata": {},
   "outputs": [
    {
     "name": "stdout",
     "output_type": "stream",
     "text": [
      "<class 'pandas.core.frame.DataFrame'>\n",
      "RangeIndex: 1017209 entries, 0 to 1017208\n",
      "Data columns (total 6 columns):\n",
      " #   Column         Non-Null Count    Dtype \n",
      "---  ------         --------------    ----- \n",
      " 0   Store          1017209 non-null  int64 \n",
      " 1   Open           1017209 non-null  int64 \n",
      " 2   StoreType      1017209 non-null  object\n",
      " 3   DayOfWeek      1017209 non-null  int64 \n",
      " 4   Assortment     1017209 non-null  object\n",
      " 5   SchoolHoliday  1017209 non-null  int64 \n",
      "dtypes: int64(4), object(2)\n",
      "memory usage: 46.6+ MB\n",
      "None\n"
     ]
    }
   ],
   "source": [
    "X_train, y_train =train_data.drop(['Sales'],axis=1), train_data['Sales']\n",
    "col_to_use = ['Store', 'Open', 'StoreType', 'DayOfWeek', 'Assortment', 'SchoolHoliday']\n",
    "print(X_train[col_to_use].info())"
   ]
  },
  {
   "cell_type": "code",
   "execution_count": 20,
   "metadata": {},
   "outputs": [
    {
     "data": {
      "text/plain": [
       "(1017209, 12)"
      ]
     },
     "execution_count": 20,
     "metadata": {},
     "output_type": "execute_result"
    }
   ],
   "source": [
    "cln = X_train.select_dtypes(include=[np.number]).columns.tolist()\n",
    "X_train[cln].values.shape"
   ]
  }
 ],
 "metadata": {
  "kernelspec": {
   "display_name": "tensor",
   "language": "python",
   "name": "python3"
  },
  "language_info": {
   "codemirror_mode": {
    "name": "ipython",
    "version": 3
   },
   "file_extension": ".py",
   "mimetype": "text/x-python",
   "name": "python",
   "nbconvert_exporter": "python",
   "pygments_lexer": "ipython3",
   "version": "3.9.20"
  }
 },
 "nbformat": 4,
 "nbformat_minor": 2
}
